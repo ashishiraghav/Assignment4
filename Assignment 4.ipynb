{
 "cells": [
  {
   "cell_type": "markdown",
   "id": "88b40cb1",
   "metadata": {},
   "source": [
    "Q1. What exactly is []?\n",
    "\n",
    "Ans:-It is a list which is a collection of data(same or different type)"
   ]
  },
  {
   "cell_type": "markdown",
   "id": "3bc00540",
   "metadata": {},
   "source": [
    "Q2. In a list of values stored in a variable called spam, how would you assign the value \"hello\" as the\n",
    "third value? (Assume [2, 4, 6, 8, 10] are in spam.)\n",
    "\n",
    "Ans:-"
   ]
  },
  {
   "cell_type": "code",
   "execution_count": 2,
   "id": "f28158db",
   "metadata": {},
   "outputs": [
    {
     "data": {
      "text/plain": [
       "[2, 4, 'hello', 6, 8, 10]"
      ]
     },
     "execution_count": 2,
     "metadata": {},
     "output_type": "execute_result"
    }
   ],
   "source": [
    "spam=[2,4,6,8,10]\n",
    "spam.insert(2,'hello')\n",
    "spam"
   ]
  },
  {
   "cell_type": "code",
   "execution_count": 3,
   "id": "cb5d0008",
   "metadata": {},
   "outputs": [],
   "source": [
    "spam=['a','b','c','d']"
   ]
  },
  {
   "cell_type": "markdown",
   "id": "920d2615",
   "metadata": {},
   "source": [
    "Q3. What is the value of spam [int(int('3' * 2) / 11)]?\n",
    "\n",
    "Ans:-"
   ]
  },
  {
   "cell_type": "code",
   "execution_count": 4,
   "id": "ae862452",
   "metadata": {},
   "outputs": [
    {
     "data": {
      "text/plain": [
       "'d'"
      ]
     },
     "execution_count": 4,
     "metadata": {},
     "output_type": "execute_result"
    }
   ],
   "source": [
    "spam[int(int('3'*2)/11)]"
   ]
  },
  {
   "cell_type": "markdown",
   "id": "3e0fdc08",
   "metadata": {},
   "source": [
    "Q4. What is the value of spam[-1]?\n",
    "\n",
    "Ans:-   'd'"
   ]
  },
  {
   "cell_type": "markdown",
   "id": "a32f7ece",
   "metadata": {},
   "source": [
    "Q5. What is the value of spam[:2]?\n",
    "\n",
    "Ans:-  'a' , 'b'"
   ]
  },
  {
   "cell_type": "code",
   "execution_count": 25,
   "id": "42e2303e",
   "metadata": {},
   "outputs": [],
   "source": [
    "bacon=[3.14, 'cat', 11, 'cat', True]"
   ]
  },
  {
   "cell_type": "markdown",
   "id": "bde8e87a",
   "metadata": {},
   "source": [
    "Q6. What is the value of bacon.index('cat')?\n",
    "\n",
    "Ans:-  1\n"
   ]
  },
  {
   "cell_type": "code",
   "execution_count": 26,
   "id": "fd98546f",
   "metadata": {},
   "outputs": [
    {
     "data": {
      "text/plain": [
       "1"
      ]
     },
     "execution_count": 26,
     "metadata": {},
     "output_type": "execute_result"
    }
   ],
   "source": [
    "bacon.index('cat')"
   ]
  },
  {
   "cell_type": "markdown",
   "id": "7d2ad7b5",
   "metadata": {},
   "source": [
    "Q7. How does bacon.append(99) change the look of the list value in bacon?\n",
    "\n",
    "Ans:-  99 will be added in bacon list at the last position of list"
   ]
  },
  {
   "cell_type": "code",
   "execution_count": 27,
   "id": "ba55908c",
   "metadata": {},
   "outputs": [
    {
     "data": {
      "text/plain": [
       "[3.14, 'cat', 11, 'cat', True, 99]"
      ]
     },
     "execution_count": 27,
     "metadata": {},
     "output_type": "execute_result"
    }
   ],
   "source": [
    "bacon.append(99)\n",
    "bacon"
   ]
  },
  {
   "cell_type": "markdown",
   "id": "5c6f910d",
   "metadata": {},
   "source": [
    "Q8. How does bacon.remove('cat') change the look of the list in bacon?\n",
    "\n",
    "Ans:- It will remove cat at position 2"
   ]
  },
  {
   "cell_type": "code",
   "execution_count": 28,
   "id": "f704d53d",
   "metadata": {},
   "outputs": [
    {
     "data": {
      "text/plain": [
       "[3.14, 11, 'cat', True, 99]"
      ]
     },
     "execution_count": 28,
     "metadata": {},
     "output_type": "execute_result"
    }
   ],
   "source": [
    "bacon.remove('cat')\n",
    "bacon"
   ]
  },
  {
   "cell_type": "markdown",
   "id": "35c78624",
   "metadata": {},
   "source": [
    "Q9. What are the list concatenation and list replication operators?\n",
    "\n",
    "Ans:- The operator for list concatenation is (+) and the operator for list replicatiion is (*)"
   ]
  },
  {
   "cell_type": "markdown",
   "id": "ca24b875",
   "metadata": {},
   "source": [
    "Q10. What is difference between the list methods append() and insert()?\n",
    "\n",
    "Ans:- In append method, We don't need to give the position at which we want to add the item in list. Item will be added in list at the last position of the list.\n",
    "\n",
    "   In insert method, We have to give the position in argument at which we want to add the Item in list."
   ]
  },
  {
   "cell_type": "markdown",
   "id": "4f738b49",
   "metadata": {},
   "source": [
    "Q11. What are the two methods for removing items from a list?\n",
    "\n",
    "Ans:- The two mwthods for removing items from a list is remove() and pop(). It helps to remove the very first given element matching from the list. The remove() method removes an element from the list based on the name of item given. The pop() method removes an element from the list based on the index given."
   ]
  },
  {
   "cell_type": "markdown",
   "id": "ec55c805",
   "metadata": {},
   "source": [
    "Q12. Describe how list values and string values are identical.?\n",
    "\n",
    "Ans:-  The similarity between Lists and Strings in Python is that both are sequences."
   ]
  },
  {
   "cell_type": "markdown",
   "id": "cad264b6",
   "metadata": {},
   "source": [
    "Q13. What's the difference between tuples and lists?\n",
    "\n",
    "Ans:- Lists are mutable object but tuples are imutable object "
   ]
  },
  {
   "cell_type": "markdown",
   "id": "88578191",
   "metadata": {},
   "source": [
    "Q14. How do you type a tuple value that only contains the integer 42?\n",
    "\n",
    "Ans:- xyz=(42,)"
   ]
  },
  {
   "cell_type": "code",
   "execution_count": 31,
   "id": "076a2716",
   "metadata": {},
   "outputs": [
    {
     "data": {
      "text/plain": [
       "tuple"
      ]
     },
     "execution_count": 31,
     "metadata": {},
     "output_type": "execute_result"
    }
   ],
   "source": [
    "xyz=(42,)\n",
    "type(xyz)"
   ]
  },
  {
   "cell_type": "markdown",
   "id": "1756cf59",
   "metadata": {},
   "source": [
    "Q15. How do you get a list value's tuple form? How do you get a tuple value's list form?\n",
    "\n",
    "Ans:- We can get list value's in tuple form by using a inbuilt function tuple(). And we can get a tuple's value by using inbuilt function list()."
   ]
  },
  {
   "cell_type": "code",
   "execution_count": 36,
   "id": "f7278312",
   "metadata": {},
   "outputs": [
    {
     "data": {
      "text/plain": [
       "tuple"
      ]
     },
     "execution_count": 36,
     "metadata": {},
     "output_type": "execute_result"
    }
   ],
   "source": [
    "a=[1,2,3,4]\n",
    "type(tuple(a))"
   ]
  },
  {
   "cell_type": "code",
   "execution_count": 37,
   "id": "bd4a2fa1",
   "metadata": {},
   "outputs": [
    {
     "data": {
      "text/plain": [
       "list"
      ]
     },
     "execution_count": 37,
     "metadata": {},
     "output_type": "execute_result"
    }
   ],
   "source": [
    "b=(1,2,3,4)\n",
    "type(list(b))"
   ]
  },
  {
   "cell_type": "markdown",
   "id": "f4344315",
   "metadata": {},
   "source": [
    "Q16. Variables that \"contain\" list values are not necessarily lists themselves. Instead, what do they\n",
    "contain?\n",
    "\n",
    "Ans:- They could contains Tuples, Dictionaries"
   ]
  },
  {
   "cell_type": "markdown",
   "id": "a755c85b",
   "metadata": {},
   "source": [
    "Q17. How do you distinguish between copy.copy() and copy.deepcopy()?\n",
    "\n",
    "Ans:-copy() create reference to original object. If you change copied object - you change the original object. . deepcopy() creates new object and does real copying of original object to new one. Changing new deepcopied object doesn't affect original object."
   ]
  },
  {
   "cell_type": "code",
   "execution_count": null,
   "id": "89050574",
   "metadata": {},
   "outputs": [],
   "source": []
  }
 ],
 "metadata": {
  "kernelspec": {
   "display_name": "Python 3 (ipykernel)",
   "language": "python",
   "name": "python3"
  },
  "language_info": {
   "codemirror_mode": {
    "name": "ipython",
    "version": 3
   },
   "file_extension": ".py",
   "mimetype": "text/x-python",
   "name": "python",
   "nbconvert_exporter": "python",
   "pygments_lexer": "ipython3",
   "version": "3.9.7"
  }
 },
 "nbformat": 4,
 "nbformat_minor": 5
}
